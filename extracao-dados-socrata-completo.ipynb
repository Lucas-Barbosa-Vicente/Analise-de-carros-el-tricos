{
 "cells": [
  {
   "cell_type": "code",
   "execution_count": 18,
   "metadata": {
    "colab": {
     "base_uri": "https://localhost:8080/"
    },
    "executionInfo": {
     "elapsed": 3375,
     "status": "ok",
     "timestamp": 1747783430061,
     "user": {
      "displayName": "",
      "userId": ""
     },
     "user_tz": 180
    },
    "id": "xjN458ctyuuj",
    "outputId": "3eb04d6b-b0e6-4c66-a6bb-27d52b30abe0"
   },
   "outputs": [
    {
     "name": "stdout",
     "output_type": "stream",
     "text": [
      "Requirement already satisfied: pandas in /usr/local/lib/python3.10/dist-packages (2.2.2)\n",
      "Requirement already satisfied: sodapy in /usr/local/lib/python3.10/dist-packages (2.2.0)\n",
      "Requirement already satisfied: matplotlib in /usr/local/lib/python3.10/dist-packages (3.10.0)\n",
      "Requirement already satisfied: seaborn in /usr/local/lib/python3.10/dist-packages (0.13.2)\n",
      "Requirement already satisfied: plotly in /usr/local/lib/python3.10/dist-packages (5.24.1)\n",
      "Requirement already satisfied: numpy>=1.22.4 in /usr/local/lib/python3.10/dist-packages (from pandas) (1.26.4)\n",
      "Requirement already satisfied: python-dateutil>=2.8.2 in /usr/local/lib/python3.10/dist-packages (from pandas) (2.8.2)\n",
      "Requirement already satisfied: pytz>=2020.1 in /usr/local/lib/python3.10/dist-packages (from pandas) (2024.2)\n",
      "Requirement already satisfied: tzdata>=2022.7 in /usr/local/lib/python3.10/dist-packages (from pandas) (2024.2)\n",
      "Requirement already satisfied: requests>=2.28.1 in /usr/local/lib/python3.10/dist-packages (from sodapy) (2.32.3)\n",
      "Requirement already satisfied: contourpy>=1.0.1 in /usr/local/lib/python3.10/dist-packages (from matplotlib) (1.3.1)\n",
      "Requirement already satisfied: cycler>=0.10 in /usr/local/lib/python3.10/dist-packages (from matplotlib) (0.12.1)\n",
      "Requirement already satisfied: fonttools>=4.22.0 in /usr/local/lib/python3.10/dist-packages (from matplotlib) (4.55.3)\n",
      "Requirement already satisfied: kiwisolver>=1.3.1 in /usr/local/lib/python3.10/dist-packages (from matplotlib) (1.4.8)\n",
      "Requirement already satisfied: packaging>=20.0 in /usr/local/lib/python3.10/dist-packages (from matplotlib) (24.2)\n",
      "Requirement already satisfied: pillow>=8 in /usr/local/lib/python3.10/dist-packages (from matplotlib) (11.1.0)\n",
      "Requirement already satisfied: pyparsing>=2.3.1 in /usr/local/lib/python3.10/dist-packages (from matplotlib) (3.2.1)\n",
      "Requirement already satisfied: tenacity>=6.2.0 in /usr/local/lib/python3.10/dist-packages (from plotly) (9.0.0)\n",
      "Requirement already satisfied: six>=1.5 in /usr/local/lib/python3.10/dist-packages (from python-dateutil>=2.8.2->pandas) (1.17.0)\n",
      "Requirement already satisfied: charset-normalizer<4,>=2 in /usr/local/lib/python3.10/dist-packages (from requests>=2.28.1->sodapy) (3.4.1)\n",
      "Requirement already satisfied: idna<4,>=2.5 in /usr/local/lib/python3.10/dist-packages (from requests>=2.28.1->sodapy) (3.10)\n",
      "Requirement already satisfied: urllib3<3,>=1.21.1 in /usr/local/lib/python3.10/dist-packages (from requests>=2.28.1->sodapy) (2.3.0)\n",
      "Requirement already satisfied: certifi>=2017.4.17 in /usr/local/lib/python3.10/dist-packages (from requests>=2.28.1->sodapy) (2024.12.14)\n"
     ]
    }
   ],
   "source": [
    "%pip install pandas sodapy matplotlib seaborn plotly"
   ]
  },
  {
   "cell_type": "code",
   "execution_count": 19,
   "metadata": {
    "executionInfo": {
     "elapsed": 18,
     "status": "ok",
     "timestamp": 1747783430061,
     "user": {
      "displayName": "",
      "userId": ""
     },
     "user_tz": 180
    },
    "id": "sqdzjVh9zjwX"
   },
   "outputs": [],
   "source": [
    "import pandas as pd\n",
    "from sodapy import Socrata\n",
    "import seaborn as sns\n",
    "import matplotlib.pyplot as plt\n",
    "import plotly.express as px\n",
    "from datetime import datetime\n",
    "from google.cloud import storage\n",
    "import re\n"
   ]
  },
  {
   "cell_type": "code",
   "execution_count": 20,
   "metadata": {
    "colab": {
     "base_uri": "https://localhost:8080/"
    },
    "executionInfo": {
     "elapsed": 2771,
     "status": "ok",
     "timestamp": 1747783432816,
     "user": {
      "displayName": "",
      "userId": ""
     },
     "user_tz": 180
    },
    "id": "veojPatgzyvD",
    "outputId": "6d9caf4d-73cd-418c-9f36-2caabf51dcc6"
   },
   "outputs": [
    {
     "name": "stderr",
     "output_type": "stream",
     "text": [
      "WARNING:root:Requests made without an app_token will be subject to strict throttling limits.\n"
     ]
    },
    {
     "name": "stdout",
     "output_type": "stream",
     "text": [
      "Conectando à API Socrata...\n",
      "Coletados 50000 registros da API.\n",
      "Nomes das colunas ANTES da limpeza:\n",
      "['vin_1_10', 'county', 'city', 'state', 'zip_code', 'model_year', 'make', 'model', 'ev_type', 'cafv_type', 'electric_range', 'base_msrp', 'legislative_district', 'dol_vehicle_id', 'geocoded_column', 'electric_utility', '_2020_census_tract', ':@computed_region_x4ys_rtnd', ':@computed_region_fny7_vc3j', ':@computed_region_8ddd_yn5v']\n",
      "\n",
      "Limpando nomes de colunas para compatibilidade com BigQuery...\n",
      "Nomes das colunas DEPOIS da limpeza:\n",
      "['vin_1_10', 'county', 'city', 'state', 'zip_code', 'model_year', 'make', 'model', 'ev_type', 'cafv_type', 'electric_range', 'base_msrp', 'legislative_district', 'dol_vehicle_id', 'geocoded_column', 'electric_utility', 'col_2020_census_tract', 'computed_region_x4ys_rtnd', 'computed_region_fny7_vc3j', 'computed_region_8ddd_yn5v']\n",
      "\n",
      "--- Informações Iniciais do DataFrame ---\n",
      "     vin_1_10    county      city state zip_code model_year   make    model  \\\n",
      "0  5YJ3E1EB6K      King   Seattle    WA    98178       2019  TESLA  MODEL 3   \n",
      "1  5YJYGAEE5M    Yakima     Selah    WA    98942       2021  TESLA  MODEL Y   \n",
      "2  5YJSA1E65N    Yakima   Granger    WA    98932       2022  TESLA  MODEL S   \n",
      "3  5YJ3E1EBXN      King  Bellevue    WA    98004       2022  TESLA  MODEL 3   \n",
      "4  JM3KKEHA8S  Thurston      Yelm    WA    98597       2025  MAZDA    CX-90   \n",
      "\n",
      "                                  ev_type  \\\n",
      "0          Battery Electric Vehicle (BEV)   \n",
      "1          Battery Electric Vehicle (BEV)   \n",
      "2          Battery Electric Vehicle (BEV)   \n",
      "3          Battery Electric Vehicle (BEV)   \n",
      "4  Plug-in Hybrid Electric Vehicle (PHEV)   \n",
      "\n",
      "                                           cafv_type electric_range base_msrp  \\\n",
      "0            Clean Alternative Fuel Vehicle Eligible            220         0   \n",
      "1  Eligibility unknown as battery range has not b...              0         0   \n",
      "2  Eligibility unknown as battery range has not b...              0         0   \n",
      "3  Eligibility unknown as battery range has not b...              0         0   \n",
      "4              Not eligible due to low battery range             26         0   \n",
      "\n",
      "  legislative_district dol_vehicle_id  \\\n",
      "0                   37      101250425   \n",
      "1                   15      224162858   \n",
      "2                   15      187279214   \n",
      "3                   41      219428079   \n",
      "4                    2      277791643   \n",
      "\n",
      "                                     geocoded_column  \\\n",
      "0  {'type': 'Point', 'coordinates': [-122.23825, ...   \n",
      "1  {'type': 'Point', 'coordinates': [-120.53145, ...   \n",
      "2  {'type': 'Point', 'coordinates': [-120.1871, 4...   \n",
      "3  {'type': 'Point', 'coordinates': [-122.1872, 4...   \n",
      "4  {'type': 'Point', 'coordinates': [-122.60735, ...   \n",
      "\n",
      "                                electric_utility col_2020_census_tract  \\\n",
      "0   CITY OF SEATTLE - (WA)|CITY OF TACOMA - (WA)           53033011902   \n",
      "1                                     PACIFICORP           53077003100   \n",
      "2                                     PACIFICORP           53077002104   \n",
      "3  PUGET SOUND ENERGY INC||CITY OF TACOMA - (WA)           53033023902   \n",
      "4                         PUGET SOUND ENERGY INC           53067012412   \n",
      "\n",
      "  computed_region_x4ys_rtnd computed_region_fny7_vc3j  \\\n",
      "0                      3009                         9   \n",
      "1                      2746                         4   \n",
      "2                      2746                         4   \n",
      "3                      3009                         9   \n",
      "4                      2742                        10   \n",
      "\n",
      "  computed_region_8ddd_yn5v  \n",
      "0                        38  \n",
      "1                        22  \n",
      "2                        22  \n",
      "3                        42  \n",
      "4                         2  \n",
      "\n",
      "\n",
      "<class 'pandas.core.frame.DataFrame'>\n",
      "RangeIndex: 50000 entries, 0 to 49999\n",
      "Data columns (total 20 columns):\n",
      " #   Column                     Non-Null Count  Dtype \n",
      "---  ------                     --------------  ----- \n",
      " 0   vin_1_10                   50000 non-null  object\n",
      " 1   county                     49999 non-null  object\n",
      " 2   city                       49999 non-null  object\n",
      " 3   state                      50000 non-null  object\n",
      " 4   zip_code                   49999 non-null  object\n",
      " 5   model_year                 50000 non-null  object\n",
      " 6   make                       50000 non-null  object\n",
      " 7   model                      50000 non-null  object\n",
      " 8   ev_type                    50000 non-null  object\n",
      " 9   cafv_type                  50000 non-null  object\n",
      " 10  electric_range             49998 non-null  object\n",
      " 11  base_msrp                  49998 non-null  object\n",
      " 12  legislative_district       49993 non-null  object\n",
      " 13  dol_vehicle_id             50000 non-null  object\n",
      " 14  geocoded_column            49999 non-null  object\n",
      " 15  electric_utility           49999 non-null  object\n",
      " 16  col_2020_census_tract      49999 non-null  object\n",
      " 17  computed_region_x4ys_rtnd  49962 non-null  object\n",
      " 18  computed_region_fny7_vc3j  49993 non-null  object\n",
      " 19  computed_region_8ddd_yn5v  49993 non-null  object\n",
      "dtypes: object(20)\n",
      "memory usage: 7.6+ MB\n",
      "None\n",
      "\n",
      "\n",
      "Index(['vin_1_10', 'county', 'city', 'state', 'zip_code', 'model_year', 'make',\n",
      "       'model', 'ev_type', 'cafv_type', 'electric_range', 'base_msrp',\n",
      "       'legislative_district', 'dol_vehicle_id', 'geocoded_column',\n",
      "       'electric_utility', 'col_2020_census_tract',\n",
      "       'computed_region_x4ys_rtnd', 'computed_region_fny7_vc3j',\n",
      "       'computed_region_8ddd_yn5v'],\n",
      "      dtype='object')\n",
      "\n",
      "\n"
     ]
    }
   ],
   "source": [
    "\n",
    "# --- Configurações da API Socrata ---\n",
    "socrata_domain = \"data.wa.gov\"\n",
    "socrata_dataset_id = \"f6w7-q2d2\"\n",
    "limit = 50000 # Aumentei o limite, mas lembre-se que pode haver paginação para mais dados.\n",
    "\n",
    "print(\"Conectando à API Socrata...\")\n",
    "# Cliente não autenticado (para datasets públicos).\n",
    "# Se precisar de autenticação, use:\n",
    "# client = Socrata(socrata_domain, \"YOUR_APP_TOKEN\", username=\"user@example.com\", password=\"AFakePassword\")\n",
    "# Para um token de aplicativo, você precisaria criar um no Socrata e armazená-lo com segurança\n",
    "# (ex: Secret Manager se fosse em produção, mas para notebook pode ser direto se for público ou teste).\n",
    "client = Socrata(socrata_domain, None)\n",
    "\n",
    "# --- Coleta de Dados da API ---\n",
    "try:\n",
    "    # A Socrata API pode ter limites de 1000, 2000 ou 50000. Use loops para paginação se precisar de tudo.\n",
    "    # Exemplo simples para um limite:\n",
    "    results = client.get(socrata_dataset_id, limit=limit)\n",
    "    print(f\"Coletados {len(results)} registros da API.\")\n",
    "\n",
    "    if not results:\n",
    "        print(\"Nenhum dado retornado da API Socrata. Verifique o ID do dataset ou limites.\")\n",
    "        # Pode querer parar a execução ou retornar aqui\n",
    "        # return\n",
    "\n",
    "    df = pd.DataFrame.from_records(results)\n",
    "\n",
    "    print(\"Nomes das colunas ANTES da limpeza:\")\n",
    "    print(df.columns.tolist())\n",
    "\n",
    "    # --- Nova Seção: Limpar Nomes de Colunas ---\n",
    "    print(\"\\nLimpando nomes de colunas para compatibilidade com BigQuery...\")\n",
    "\n",
    "    # Função para sanitizar um nome de coluna\n",
    "    def sanitize_column_name(col_name):\n",
    "        # 1. Substituir caracteres especiais (não alfanuméricos e não sublinhados) por sublinhados\n",
    "        # Mantém letras (a-z, A-Z), números (0-9) e sublinhados (_)\n",
    "        # e substitui o resto por um sublinhado.\n",
    "        col_name = re.sub(r'[^a-zA-Z0-9_]', '_', col_name)\n",
    "\n",
    "        # 2. Remover múltiplos sublinhados consecutivos (se houver)\n",
    "        col_name = re.sub(r'_{2,}', '_', col_name)\n",
    "\n",
    "        # 3. Remover sublinhados do início ou do fim\n",
    "        col_name = col_name.strip('_')\n",
    "\n",
    "        # 4. Converter para minúsculas (boa prática para o BigQuery)\n",
    "        col_name = col_name.lower()\n",
    "\n",
    "        # 5. Se o nome começar com um número, adicione um prefixo (ex: 'col_')\n",
    "        if re.match(r'^[0-9]', col_name):\n",
    "            col_name = 'col_' + col_name\n",
    "\n",
    "        return col_name\n",
    "\n",
    "    # Aplicar a função de sanitização a todos os nomes de colunas\n",
    "    df.columns = [sanitize_column_name(col) for col in df.columns]\n",
    "\n",
    "    print(\"Nomes das colunas DEPOIS da limpeza:\")\n",
    "    print(df.columns.tolist())\n",
    "\n",
    "except Exception as e:\n",
    "    print(f\"Erro ao coletar dados da API Socrata: {e}\")\n",
    "    # Parar a execução ou tratar o erro conforme a necessidade\n",
    "    raise # Relança o erro para o notebook exibir\n",
    "\n",
    "print(\"\\n--- Informações Iniciais do DataFrame ---\")\n",
    "print(df.head())\n",
    "print(\"\\n\")\n",
    "print(df.info())\n",
    "print(\"\\n\")\n",
    "print(df.columns)\n",
    "print(\"\\n\")\n",
    "\n"
   ]
  },
  {
   "cell_type": "code",
   "execution_count": 21,
   "metadata": {
    "colab": {
     "base_uri": "https://localhost:8080/"
    },
    "executionInfo": {
     "elapsed": 20,
     "status": "ok",
     "timestamp": 1747783432817,
     "user": {
      "displayName": "",
      "userId": ""
     },
     "user_tz": 180
    },
    "id": "wnEwYgA8z249",
    "outputId": "fbcb262b-629d-48dd-d21d-4ba37b1254aa"
   },
   "outputs": [
    {
     "name": "stdout",
     "output_type": "stream",
     "text": [
      "Convertendo tipos de dados...\n",
      "\n",
      "DataFrame após pré-processamento: 49998 linhas, 20 colunas.\n",
      "     vin_1_10    county      city State zip_code  Model Year   Make    Model  \\\n",
      "0  5YJ3E1EB6K      King   Seattle    WA    98178        2019  TESLA  MODEL 3   \n",
      "1  5YJYGAEE5M    Yakima     Selah    WA    98942        2021  TESLA  MODEL Y   \n",
      "2  5YJSA1E65N    Yakima   Granger    WA    98932        2022  TESLA  MODEL S   \n",
      "3  5YJ3E1EBXN      King  Bellevue    WA    98004        2022  TESLA  MODEL 3   \n",
      "4  JM3KKEHA8S  Thurston      Yelm    WA    98597        2025  MAZDA    CX-90   \n",
      "\n",
      "                                  ev_type  \\\n",
      "0          Battery Electric Vehicle (BEV)   \n",
      "1          Battery Electric Vehicle (BEV)   \n",
      "2          Battery Electric Vehicle (BEV)   \n",
      "3          Battery Electric Vehicle (BEV)   \n",
      "4  Plug-in Hybrid Electric Vehicle (PHEV)   \n",
      "\n",
      "                                           cafv_type  Electric Range  \\\n",
      "0            Clean Alternative Fuel Vehicle Eligible           220.0   \n",
      "1  Eligibility unknown as battery range has not b...             0.0   \n",
      "2  Eligibility unknown as battery range has not b...             0.0   \n",
      "3  Eligibility unknown as battery range has not b...             0.0   \n",
      "4              Not eligible due to low battery range            26.0   \n",
      "\n",
      "   Base MSRP legislative_district dol_vehicle_id  \\\n",
      "0        0.0                   37      101250425   \n",
      "1        0.0                   15      224162858   \n",
      "2        0.0                   15      187279214   \n",
      "3        0.0                   41      219428079   \n",
      "4        0.0                    2      277791643   \n",
      "\n",
      "                                     geocoded_column  \\\n",
      "0  {'type': 'Point', 'coordinates': [-122.23825, ...   \n",
      "1  {'type': 'Point', 'coordinates': [-120.53145, ...   \n",
      "2  {'type': 'Point', 'coordinates': [-120.1871, 4...   \n",
      "3  {'type': 'Point', 'coordinates': [-122.1872, 4...   \n",
      "4  {'type': 'Point', 'coordinates': [-122.60735, ...   \n",
      "\n",
      "                                Electric Utility col_2020_census_tract  \\\n",
      "0   CITY OF SEATTLE - (WA)|CITY OF TACOMA - (WA)           53033011902   \n",
      "1                                     PACIFICORP           53077003100   \n",
      "2                                     PACIFICORP           53077002104   \n",
      "3  PUGET SOUND ENERGY INC||CITY OF TACOMA - (WA)           53033023902   \n",
      "4                         PUGET SOUND ENERGY INC           53067012412   \n",
      "\n",
      "  computed_region_x4ys_rtnd computed_region_fny7_vc3j  \\\n",
      "0                      3009                         9   \n",
      "1                      2746                         4   \n",
      "2                      2746                         4   \n",
      "3                      3009                         9   \n",
      "4                      2742                        10   \n",
      "\n",
      "  computed_region_8ddd_yn5v  \n",
      "0                        38  \n",
      "1                        22  \n",
      "2                        22  \n",
      "3                        42  \n",
      "4                         2  \n"
     ]
    }
   ],
   "source": [
    "# --- Pré-processamento e Limpeza ---\n",
    "# ATENÇÃO: Nomes das colunas da API Socrata são geralmente em snake_case.\n",
    "# Adaptei as colunas abaixo. CONFIRA os nomes reais das colunas da API\n",
    "# olhando o `df.columns` após a coleta.\n",
    "\n",
    "# Renomear colunas para facilitar o uso (opcional, mas boa prática)\n",
    "# Mapeamento para nomes mais legíveis, se necessário\n",
    "column_mapping = {\n",
    "    'make': 'Make',\n",
    "    'electric_vehicle_type': 'Electric Vehicle Type',\n",
    "    'electric_range': 'Electric Range',\n",
    "    'model_year': 'Model Year',\n",
    "    'base_msrp': 'Base MSRP',\n",
    "    'model': 'Model',\n",
    "    'state': 'State',\n",
    "    'clean_alternative_fuel_vehicle_cafv_eligibility': 'Clean Alternative Fuel Vehicle (CAFV) Eligibility',\n",
    "    'electric_utility': 'Electric Utility'\n",
    "    # Adicione outros mapeamentos conforme necessário para as colunas que você usa\n",
    "}\n",
    "df = df.rename(columns=column_mapping)\n",
    "\n",
    "# Converter tipos de dados. `errors='coerce'` converte valores inválidos para NaN.\n",
    "print(\"Convertendo tipos de dados...\")\n",
    "for col in ['Electric Range', 'Base MSRP', 'Model Year']:\n",
    "    if col in df.columns:\n",
    "        df[col] = pd.to_numeric(df[col], errors='coerce')\n",
    "\n",
    "# Remover linhas com valores NaN essenciais após a conversão\n",
    "df.dropna(subset=['Electric Range', 'Base MSRP'], inplace=True)\n",
    "\n",
    "print(f\"\\nDataFrame após pré-processamento: {df.shape[0]} linhas, {df.shape[1]} colunas.\")\n",
    "print(df.head())\n",
    "\n"
   ]
  },
  {
   "cell_type": "code",
   "execution_count": 22,
   "metadata": {
    "colab": {
     "base_uri": "https://localhost:8080/",
     "height": 468
    },
    "executionInfo": {
     "elapsed": 706,
     "status": "ok",
     "timestamp": 1747783433512,
     "user": {
      "displayName": "",
      "userId": ""
     },
     "user_tz": 180
    },
    "id": "i9kpY8sHz6_e",
    "outputId": "755b27ee-dcd3-4660-f372-6bda9bd69bb5"
   },
   "outputs": [
    {
     "name": "stdout",
     "output_type": "stream",
     "text": [
      "\n",
      "--- Gerando Visualizações ---\n"
     ]
    },
    {
     "data": {
      "image/png": "[encoded data removed]",
      "text/plain": [
       "<Figure size 1000x500 with 1 Axes>"
      ]
     },
     "metadata": {},
     "output_type": "display_data"
    }
   ],
   "source": [
    "# --- Visualizações (diretamente no notebook) ---\n",
    "\n",
    "print(\"\\n--- Gerando Visualizações ---\")\n",
    "\n",
    "# Gráfico 1: Top 10 Marcas com Mais Veículos Elétricos\n",
    "if 'Make' in df.columns:\n",
    "    plt.figure(figsize=(10, 5))\n",
    "    df['Make'].value_counts().head(10).plot(kind='bar', color='skyblue')\n",
    "    plt.title('Top 10 Marcas com Mais Veículos Elétricos')\n",
    "    plt.xlabel('Marca')\n",
    "    plt.ylabel('Quantidade')\n",
    "    plt.xticks(rotation=45)\n",
    "    plt.tight_layout()\n",
    "    plt.show()\n",
    "else:\n",
    "    print(\"Coluna 'Make' não encontrada para o gráfico Top 10 Marcas.\")\n"
   ]
  },
  {
   "cell_type": "code",
   "execution_count": 23,
   "metadata": {
    "colab": {
     "base_uri": "https://localhost:8080/",
     "height": 433
    },
    "executionInfo": {
     "elapsed": 24,
     "status": "ok",
     "timestamp": 1747783433513,
     "user": {
      "displayName": "",
      "userId": ""
     },
     "user_tz": 180
    },
    "id": "HkhLJ6AC0C3z",
    "outputId": "af64e1fa-5650-4cf6-9194-e88321947def"
   },
   "outputs": [
    {
     "data": {
      "image/png": "[encoded data removed]",
      "text/plain": [
       "<Figure size 1000x500 with 1 Axes>"
      ]
     },
     "metadata": {},
     "output_type": "display_data"
    }
   ],
   "source": [
    "# Gráfico 3: Evolução de Registros de Veículos Elétricos por Ano\n",
    "if 'Model Year' in df.columns:\n",
    "    plt.figure(figsize=(10, 5))\n",
    "    # Garante que 'Model Year' seja inteiro antes de value_counts para evitar problemas com floats (NaNs tratados acima)\n",
    "    df['Model Year'] = df['Model Year'].astype(int, errors='ignore')\n",
    "    df['Model Year'].value_counts().sort_index().plot(kind='line', marker='o')\n",
    "    plt.title('Evolução de Registros de Veículos Elétricos por Ano')\n",
    "    plt.xlabel('Ano')\n",
    "    plt.ylabel('Quantidade de Registros')\n",
    "    plt.grid(True)\n",
    "    plt.tight_layout()\n",
    "    plt.show()\n",
    "else:\n",
    "    print(\"Coluna 'Model Year' não encontrada para o gráfico de evolução.\")"
   ]
  },
  {
   "cell_type": "code",
   "execution_count": 24,
   "metadata": {
    "colab": {
     "base_uri": "https://localhost:8080/"
    },
    "executionInfo": {
     "elapsed": 19,
     "status": "ok",
     "timestamp": 1747783433513,
     "user": {
      "displayName": "",
      "userId": ""
     },
     "user_tz": 180
    },
    "id": "IsLpMGuvz-SJ",
    "outputId": "0514fdda-f0c5-4aa6-e491-208a00986c3d"
   },
   "outputs": [
    {
     "name": "stdout",
     "output_type": "stream",
     "text": [
      "\n",
      "--- Realizando Transformações e Análises ---\n",
      "Coluna 'Autonomia_por_Preco' criada.\n"
     ]
    }
   ],
   "source": [
    "# --- Transformações Adicionais e Análises ---\n",
    "\n",
    "print(\"\\n--- Realizando Transformações e Análises ---\")\n",
    "\n",
    "# Autonomia por Preço\n",
    "if 'Electric Range' in df.columns and 'Base MSRP' in df.columns:\n",
    "    df['Autonomia_por_Preco'] = df['Electric Range'] / df['Base MSRP']\n",
    "    print(\"Coluna 'Autonomia_por_Preco' criada.\")\n",
    "else:\n",
    "    print(\"Não foi possível criar 'Autonomia_por_Preco': colunas 'Electric Range' ou 'Base MSRP' ausentes.\")\n",
    "\n",
    "\n"
   ]
  },
  {
   "cell_type": "code",
   "execution_count": 25,
   "metadata": {
    "colab": {
     "base_uri": "https://localhost:8080/",
     "height": 676
    },
    "executionInfo": {
     "elapsed": 468,
     "status": "ok",
     "timestamp": 1747783433969,
     "user": {
      "displayName": "",
      "userId": ""
     },
     "user_tz": 180
    },
    "id": "SLkUsV2M0Pem",
    "outputId": "ee90f3a7-472b-4ada-d184-5cf321ba8fbd"
   },
   "outputs": [
    {
     "name": "stdout",
     "output_type": "stream",
     "text": [
      "\n",
      "Top 10 Modelos Mais Eficientes (Autonomia por Preço):\n",
      "Model\n",
      "330E           inf\n",
      "SORENTO        inf\n",
      "OUTLANDER      inf\n",
      "PACIFICA       inf\n",
      "PRIUS PHEV     inf\n",
      "PRIUS PRIME    inf\n",
      "PS2            inf\n",
      "Q5 E           inf\n",
      "RAV4 PRIME     inf\n",
      "SOUL           inf\n",
      "Name: Autonomia_por_Preco, dtype: float64\n"
     ]
    },
    {
     "data": {
      "image/png": "[encoded data removed]",
      "text/plain": [
       "<Figure size 1000x500 with 1 Axes>"
      ]
     },
     "metadata": {},
     "output_type": "display_data"
    }
   ],
   "source": [
    "# Top 10 Modelos Mais Eficientes (Autonomia por Preço)\n",
    "if 'Model' in df.columns and 'Autonomia_por_Preco' in df.columns:\n",
    "    modelos_populares = df['Model'].value_counts()\n",
    "    modelos_filtrados = modelos_populares[modelos_populares > 100].index\n",
    "    df_filtrado = df[df['Model'].isin(modelos_filtrados)]\n",
    "\n",
    "    if not df_filtrado.empty:\n",
    "        eficiencia_modelo = df_filtrado.groupby('Model')['Autonomia_por_Preco'].mean().sort_values(ascending=False).head(10)\n",
    "        print(\"\\nTop 10 Modelos Mais Eficientes (Autonomia por Preço):\")\n",
    "        print(eficiencia_modelo)\n",
    "\n",
    "        plt.figure(figsize=(10, 5))\n",
    "        eficiencia_modelo.plot(kind='bar', color='orange')\n",
    "        plt.title('Top 10 Modelos Mais Eficientes (Autonomia por Preço)')\n",
    "        plt.xlabel('Modelo')\n",
    "        plt.ylabel('Eficiência (mi/USD)')\n",
    "        plt.xticks(rotation=45)\n",
    "        plt.tight_layout()\n",
    "        plt.show()\n",
    "    else:\n",
    "        print(\"Nenhum modelo popular suficiente para análise de eficiência.\")\n",
    "else:\n",
    "    print(\"Colunas 'Model' ou 'Autonomia_por_Preco' ausentes para análise de eficiência.\")\n",
    "\n",
    "\n"
   ]
  },
  {
   "cell_type": "code",
   "execution_count": 26,
   "metadata": {
    "colab": {
     "base_uri": "https://localhost:8080/"
    },
    "executionInfo": {
     "elapsed": 25,
     "status": "ok",
     "timestamp": 1747783433970,
     "user": {
      "displayName": "",
      "userId": ""
     },
     "user_tz": 180
    },
    "id": "pnRGWbG_0RwL",
    "outputId": "3d107900-0805-4b9b-d460-0774c9ce4cf8"
   },
   "outputs": [
    {
     "name": "stdout",
     "output_type": "stream",
     "text": [
      "\n",
      "Top Autonomia Modelos:\n",
      "          Electric Range\n",
      "Model                   \n",
      "ROADSTER      237.307692\n",
      "MODEL S       168.789864\n",
      "MACAN         167.404255\n",
      "I-PACE        165.927273\n",
      "BOLT EV       161.434290\n",
      "E-TRON        135.069124\n",
      "MODEL X       121.218009\n",
      "E-GOLF        108.601594\n",
      "RAV4          101.769231\n",
      "CITY          100.000000\n"
     ]
    }
   ],
   "source": [
    "# Top Autonomia Modelos\n",
    "if 'Model' in df.columns and 'Electric Range' in df.columns:\n",
    "    top_autonomia = df[['Model', 'Electric Range']].groupby('Model').mean().sort_values(by='Electric Range', ascending=False).head(10)\n",
    "    print(\"\\nTop Autonomia Modelos:\")\n",
    "    print(top_autonomia)\n",
    "else:\n",
    "    print(\"Colunas 'Model' ou 'Electric Range' ausentes para Top Autonomia Modelos.\")\n",
    "\n",
    "\n"
   ]
  },
  {
   "cell_type": "code",
   "execution_count": 27,
   "metadata": {
    "colab": {
     "base_uri": "https://localhost:8080/"
    },
    "executionInfo": {
     "elapsed": 20,
     "status": "ok",
     "timestamp": 1747783433970,
     "user": {
      "displayName": "",
      "userId": ""
     },
     "user_tz": 180
    },
    "id": "HvUaMCn00V0I",
    "outputId": "44128d2b-f16f-4b0c-8fbf-98109f6e6094"
   },
   "outputs": [
    {
     "name": "stdout",
     "output_type": "stream",
     "text": [
      "\n",
      "Contagem de Veículos por Estado:\n",
      "  State  Quantidade\n",
      "0    WA       49991\n",
      "1    CA           4\n",
      "2    AE           1\n",
      "3    MD           1\n",
      "4    AL           1\n"
     ]
    }
   ],
   "source": [
    "# Contagem por Estado\n",
    "if 'State' in df.columns:\n",
    "    estado_contagem = df['State'].value_counts().reset_index()\n",
    "    estado_contagem.columns = ['State', 'Quantidade']\n",
    "    print(\"\\nContagem de Veículos por Estado:\")\n",
    "    print(estado_contagem.head())\n",
    "else:\n",
    "    print(\"Coluna 'State' não encontrada para contagem por estado.\")\n",
    "\n",
    "\n"
   ]
  },
  {
   "cell_type": "code",
   "execution_count": 28,
   "metadata": {
    "colab": {
     "base_uri": "https://localhost:8080/"
    },
    "executionInfo": {
     "elapsed": 16,
     "status": "ok",
     "timestamp": 1747783433970,
     "user": {
      "displayName": "",
      "userId": ""
     },
     "user_tz": 180
    },
    "id": "4btbtNMx0YQt",
    "outputId": "70c64767-baac-4646-93fb-c3650bc7fec3"
   },
   "outputs": [
    {
     "name": "stdout",
     "output_type": "stream",
     "text": [
      "Coluna 'Clean Alternative Fuel Vehicle (CAFV) Eligibility' não encontrada.\n",
      "\n",
      "Top 10 Fornecedores de Eletricidade:\n",
      "Electric Utility\n",
      "PUGET SOUND ENERGY INC||CITY OF TACOMA - (WA)                                            24297\n",
      "CITY OF SEATTLE - (WA)|CITY OF TACOMA - (WA)                                             11360\n",
      "PUGET SOUND ENERGY INC                                                                    7029\n",
      "BONNEVILLE POWER ADMINISTRATION||PUD NO 1 OF CLARK COUNTY - (WA)                          4674\n",
      "BONNEVILLE POWER ADMINISTRATION||PUD NO 1 OF COWLITZ COUNTY                                386\n",
      "BONNEVILLE POWER ADMINISTRATION||PUGET SOUND ENERGY INC||PUD NO 1 OF JEFFERSON COUNTY      370\n",
      "PACIFICORP                                                                                 369\n",
      "BONNEVILLE POWER ADMINISTRATION||CITY OF TACOMA - (WA)||PENINSULA LIGHT COMPANY            298\n",
      "PUGET SOUND ENERGY INC||PUD NO 1 OF WHATCOM COUNTY                                         150\n",
      "BONNEVILLE POWER ADMINISTRATION||PUD 1 OF SNOHOMISH COUNTY                                 147\n",
      "Name: count, dtype: int64\n"
     ]
    }
   ],
   "source": [
    "# CAFV Eligibility e Electric Utility\n",
    "if 'Clean Alternative Fuel Vehicle (CAFV) Eligibility' in df.columns:\n",
    "    cafv = df['Clean Alternative Fuel Vehicle (CAFV) Eligibility'].value_counts()\n",
    "    print(\"\\nElegibilidade para Veículos de Combustível Alternativo Limpo (CAFV):\")\n",
    "    print(cafv)\n",
    "else:\n",
    "    print(\"Coluna 'Clean Alternative Fuel Vehicle (CAFV) Eligibility' não encontrada.\")\n",
    "\n",
    "if 'Electric Utility' in df.columns:\n",
    "    utility = df['Electric Utility'].value_counts().head(10)\n",
    "    print(\"\\nTop 10 Fornecedores de Eletricidade:\")\n",
    "    print(utility)\n",
    "else:\n",
    "    print(\"Coluna 'Electric Utility' não encontrada.\")\n",
    "\n",
    "\n"
   ]
  },
  {
   "cell_type": "code",
   "execution_count": 29,
   "metadata": {
    "colab": {
     "base_uri": "https://localhost:8080/"
    },
    "executionInfo": {
     "elapsed": 1347,
     "status": "ok",
     "timestamp": 1747783435305,
     "user": {
      "displayName": "",
      "userId": ""
     },
     "user_tz": 180
    },
    "id": "wXTVgkv90apZ",
    "outputId": "16971e02-50a1-4b0a-b641-fe1e652f5504"
   },
   "outputs": [
    {
     "name": "stdout",
     "output_type": "stream",
     "text": [
      "\n",
      "--- Salvando resultados no GCS (gs://bucket-socrata) ---\n",
      "DataFrame principal salvo em gs://bucket-socrata/extracao/dados_processados/veiculos_eletricos_processado.csv\n",
      "Top Autonomia Modelos salvo em gs://bucket-socrata/extracao/top_autonomia/top_autonomia_modelos.csv\n",
      "Distribuição de Estados salva em gs://bucket-socrata/extracao/distribuicao_estados/distribuicao_estados.csv\n",
      "Eficiência Modelos salvo como gs://bucket-socrata/extracao/eficiencia_modelos/eficiencia_modelos.csv\n",
      "\n",
      "Análise concluída no Notebook do BigQuery!\n"
     ]
    }
   ],
   "source": [
    "# Substitua 'bucket-socrata' pelo nome real do seu bucket.\n",
    "gcs_bucket_name = \"bucket-socrata\"\n",
    "timestamp_str = datetime.now().strftime(\"%Y%m%d_%H%M%S\") # Um timestamp único para todos os arquivos desta execução\n",
    "storage_client = storage.Client()\n",
    "bucket = storage_client.bucket(gcs_bucket_name)\n",
    "\n",
    "print(f\"\\n--- Salvando resultados no GCS (gs://{gcs_bucket_name}) ---\")\n",
    "\n",
    "try:\n",
    "    # Pasta base para esta execução, para agrupar todos os arquivos do mesmo \"run\"\n",
    "    # Ex: 'extracao/'\n",
    "    base_folder = f\"extracao/\"\n",
    "\n",
    "    # Salvar DataFrame principal processado\n",
    "    if not df.empty:\n",
    "        # Caminho: 'execucao_YYYYMMDD_HHMMSS/dados_processados/veiculos_eletricos_processado.csv'\n",
    "        df_filename = f\"{base_folder}dados_processados/veiculos_eletricos_processado.csv\"\n",
    "        blob_df = bucket.blob(df_filename)\n",
    "        blob_df.upload_from_string(df.to_csv(index=False), 'text/csv')\n",
    "        print(f\"DataFrame principal salvo em gs://{gcs_bucket_name}/{df_filename}\")\n",
    "\n",
    "    # Salvar top_autonomia\n",
    "    if 'top_autonomia' in locals() and not top_autonomia.empty:\n",
    "        # Caminho: 'execucao_YYYYMMDD_HHMMSS/top_autonomia/top_autonomia_modelos.csv'\n",
    "        top_autonomia_filename = f\"{base_folder}top_autonomia/top_autonomia_modelos.csv\"\n",
    "        blob_top_autonomia = bucket.blob(top_autonomia_filename)\n",
    "        blob_top_autonomia.upload_from_string(top_autonomia.to_csv(), 'text/csv')\n",
    "        print(f\"Top Autonomia Modelos salvo em gs://{gcs_bucket_name}/{top_autonomia_filename}\")\n",
    "\n",
    "    # Salvar estado_contagem\n",
    "    if 'estado_contagem' in locals() and not estado_contagem.empty:\n",
    "        # Caminho: 'execucao_YYYYMMDD_HHMMSS/distribuicao_estados/distribuicao_estados.csv'\n",
    "        estado_contagem_filename = f\"{base_folder}distribuicao_estados/distribuicao_estados.csv\"\n",
    "        blob_estado_contagem = bucket.blob(estado_contagem_filename)\n",
    "        blob_estado_contagem.upload_from_string(estado_contagem.to_csv(index=False), 'text/csv')\n",
    "        print(f\"Distribuição de Estados salva em gs://{gcs_bucket_name}/{estado_contagem_filename}\")\n",
    "\n",
    "    # Salvar eficiencia_modelo\n",
    "    if 'eficiencia_modelo' in locals() and not eficiencia_modelo.empty:\n",
    "        # Caminho: 'execucao_YYYYMMDD_HHMMSS/eficiencia_modelos/eficiencia_modelos.csv'\n",
    "        eficiencia_modelo_filename = f\"{base_folder}eficiencia_modelos/eficiencia_modelos.csv\"\n",
    "        blob_eficiencia_modelo = bucket.blob(eficiencia_modelo_filename)\n",
    "        blob_eficiencia_modelo.upload_from_string(eficiencia_modelo.to_csv(), 'text/csv')\n",
    "        print(f\"Eficiência Modelos salvo como gs://{gcs_bucket_name}/{eficiencia_modelo_filename}\")\n",
    "\n",
    "except Exception as e:\n",
    "    print(f\"Erro ao salvar arquivos no GCS: {e}\")\n",
    "\n",
    "print(\"\\nAnálise concluída no Notebook do BigQuery!\")"
   ]
  },
  {
   "cell_type": "code",
   "execution_count": null,
   "id": "a763466e",
   "metadata": {},
   "outputs": [],
   "source": [
    "# === TRATAMENTO DE DADOS PARA POWER BI ===\n",
    "\n",
    "import pandas as pd\n",
    "\n",
    "# === 1. Leitura dos Arquivos CSV ===\n",
    "df_specs = pd.read_csv('EV_cars.csv')\n",
    "df_sales = pd.read_csv('IEA Global EV Data 2024.csv')\n",
    "\n",
    "# === 2. Limpeza e Padronização do Dataset de Especificações ===\n",
    "df_specs_clean = df_specs[[\n",
    "    'Car_name', 'Battery', 'Efficiency', 'Fast_charge',\n",
    "    'Price.DE.', 'Range', 'Top_speed', 'acceleration..0.100.'\n",
    "]].copy()\n",
    "\n",
    "df_specs_clean.columns = [\n",
    "    'Modelo', 'Bateria_kWh', 'Eficiencia_Wh_km', 'CargaRapida_kW',\n",
    "    'Preco_EUR', 'Autonomia_km', 'Velocidade_Max_kmh', 'Aceleracao_0_100_s'\n",
    "]\n",
    "\n",
    "df_specs_clean.drop_duplicates(inplace=True)\n",
    "df_specs_clean.dropna(inplace=True)\n",
    "df_specs_clean.to_csv('dados_limpos_veiculos.csv', index=False)\n",
    "\n",
    "# === 3. Limpeza e Padronização do Dataset da IEA ===\n",
    "df_sales_clean = df_sales[['region', 'parameter', 'powertrain', 'year', 'value']].copy()\n",
    "df_sales_clean.columns = ['Regiao', 'Parametro', 'Motorizacao', 'Ano', 'Valor']\n",
    "df_sales_clean.dropna(inplace=True)\n",
    "df_sales_clean = df_sales_clean[df_sales_clean['Valor'] > 0]\n",
    "df_sales_clean.to_csv('dados_limpos_vendas.csv', index=False)\n"
   ]
  }
 ],
 "metadata": {
  "colab": {
   "cell_execution_strategy": "setup",
   "provenance": []
  },
  "kernelspec": {
   "display_name": "Python 3",
   "name": "python3"
  },
  "language_info": {
   "name": "python"
  }
 },
 "nbformat": 4,
 "nbformat_minor": 0
}
